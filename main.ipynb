{
  "nbformat": 4,
  "nbformat_minor": 0,
  "metadata": {
    "colab": {
      "name": "Чат бот по вебинару.ipynb",
      "provenance": [],
      "authorship_tag": "ABX9TyOOOG2+SZ7OX/CsjphWuHdG",
      "include_colab_link": true
    },
    "kernelspec": {
      "name": "python3",
      "display_name": "Python 3"
    },
    "language_info": {
      "name": "python"
    }
  },
  "cells": [
    {
      "cell_type": "markdown",
      "metadata": {
        "id": "vV6Bqt2tk4fP"
      },
      "source": [
        "# Чат-бот с искусственным интелектом на Python\n",
        "\n",
        "По мотивам трехдневного одноименного интенсива от Skillbox.\n",
        "\n",
        "Работа проводилась в программной среде Goggle Colab. Понадобились следующие библиотеки: random, json, sklearn, telegram.\n"
      ]
    },
    {
      "cell_type": "code",
      "metadata": {
        "id": "W61m5Cqb8JK0"
      },
      "source": [
        "# Установка в Google Colab библиотеки для работы с telegram ботом\n",
        "# !pip install python-telegram-bot"
      ],
      "execution_count": 31,
      "outputs": []
    },
    {
      "cell_type": "code",
      "metadata": {
        "id": "sW4F-rJ3mXm4"
      },
      "source": [
        "# Подключение необходимых библиотек\n",
        "\n",
        "import random\n",
        "import json\n",
        "\n",
        "from sklearn.feature_extraction.text import CountVectorizer, TfidfVectorizer\n",
        "from sklearn.ensemble import RandomForestClassifier\n",
        "from sklearn.model_selection import train_test_split\n",
        "from sklearn.linear_model import LogisticRegression\n",
        "\n",
        "from telegram import Update, ForceReply\n",
        "from telegram.ext import Updater, CommandHandler, MessageHandler, Filters, CallbackContext"
      ],
      "execution_count": 32,
      "outputs": []
    },
    {
      "cell_type": "code",
      "metadata": {
        "id": "3rXRlL_EnO3R"
      },
      "source": [
        "# Загрузка данных для ML \n",
        "# и разделение их на тренировочную и тестовую части\n",
        "\n",
        "with open('/BOT_CONFIG.json') as f:\n",
        "  BOT_CONFIG = json.load(f)\n",
        "\n",
        "X, y = list(), list()\n",
        "for intent in BOT_CONFIG['intents']:\n",
        "  for example in BOT_CONFIG['intents'][intent]['examples']:\n",
        "    X.append(example)\n",
        "    y.append(intent)\n",
        "\n",
        "X_train, X_test, y_train, y_test = train_test_split(X, y, test_size=0.2, random_state=42)"
      ],
      "execution_count": 33,
      "outputs": []
    },
    {
      "cell_type": "code",
      "metadata": {
        "id": "lhu0hOjlpe3s",
        "colab": {
          "base_uri": "https://localhost:8080/"
        },
        "outputId": "9d9d5384-795d-48f5-e0a7-f9018c5fb19c"
      },
      "source": [
        "# Обучение модели\n",
        "\n",
        "vectorizer = CountVectorizer(ngram_range=(1, 3), analyzer='char_wb')\n",
        "X_train_vectorized = vectorizer.fit_transform(X_train)\n",
        "x_test_vectorized = vectorizer.transform(X_test)\n",
        "\n",
        "model = RandomForestClassifier()\n",
        "model.fit(X_train_vectorized, y_train)"
      ],
      "execution_count": 34,
      "outputs": [
        {
          "output_type": "execute_result",
          "data": {
            "text/plain": [
              "RandomForestClassifier(bootstrap=True, ccp_alpha=0.0, class_weight=None,\n",
              "                       criterion='gini', max_depth=None, max_features='auto',\n",
              "                       max_leaf_nodes=None, max_samples=None,\n",
              "                       min_impurity_decrease=0.0, min_impurity_split=None,\n",
              "                       min_samples_leaf=1, min_samples_split=2,\n",
              "                       min_weight_fraction_leaf=0.0, n_estimators=100,\n",
              "                       n_jobs=None, oob_score=False, random_state=None,\n",
              "                       verbose=0, warm_start=False)"
            ]
          },
          "metadata": {},
          "execution_count": 34
        }
      ]
    },
    {
      "cell_type": "code",
      "metadata": {
        "colab": {
          "base_uri": "https://localhost:8080/"
        },
        "id": "patNsO2ZzSXw",
        "outputId": "3c8e2525-cca6-4aea-8a00-0bbb90fecbbc"
      },
      "source": [
        "# Оценка работы модели\n",
        "print(f'Точность модели на тренировочных данных: {100 * model.score(X_train_vectorized, y_train):0.2f}%')\n",
        "print(f'Точность модели на тестовых данных: {100 * model.score(x_test_vectorized, y_test):0.2f}%')\n"
      ],
      "execution_count": 35,
      "outputs": [
        {
          "output_type": "stream",
          "name": "stdout",
          "text": [
            "Точность модели на тренировочных данных: 91.03%\n",
            "Точность модели на тестовых данных: 19.38%\n"
          ]
        }
      ]
    },
    {
      "cell_type": "code",
      "metadata": {
        "id": "5ky9913SxNMm"
      },
      "source": [
        "# Функции для работы бота\n",
        "def get_intent_by_model(text):\n",
        "  return model.predict(vectorizer.transform([text]))[0]\n",
        "\n",
        "def bot(text):\n",
        "  intent = get_intent_by_model(text)\n",
        "  return random.choice(BOT_CONFIG['intents'][intent]['responses'])\n",
        "\n",
        "def testing():\n",
        "  input_text = ''\n",
        "  while input_text != 'exit':\n",
        "    input_text = input()\n",
        "    response = bot(input_text)\n",
        "    print(response)"
      ],
      "execution_count": 36,
      "outputs": []
    },
    {
      "cell_type": "code",
      "metadata": {
        "id": "2t8qekTa8VSz"
      },
      "source": [
        "# Функции для запуска бота в telegram\n",
        "# Сам бот создается с помощью телеграм бота @BotFather\n",
        "\n",
        "def start(update: Update, context: CallbackContext) -> None:\n",
        "    # Приветствие при старте бота\n",
        "    user = update.effective_user\n",
        "    update.message.reply_markdown_v2(\n",
        "        fr'Hi {user.mention_markdown_v2()}\\!',\n",
        "        reply_markup=ForceReply(selective=True),\n",
        "    )\n",
        "\n",
        "def answer(update: Update, context: CallbackContext) -> None:\n",
        "    # Ответ на сообщение\n",
        "    answer = bot(update.message.text)\n",
        "    update.message.reply_text(answer)\n",
        "\n",
        "\n",
        "def start_the_bot() -> None:\n",
        "  # Setting up the bot\n",
        "  # Token можно взять из @BotFather\n",
        "  bot = Updater(\"Token\")\n",
        "  dispatcher = bot.dispatcher\n",
        "  dispatcher.add_handler(CommandHandler(\"start\", start))\n",
        "  dispatcher.add_handler(MessageHandler(Filters.text & ~Filters.command, answer))\n",
        "\n",
        "  # Start the Bot\n",
        "  bot.start_polling()\n",
        "  bot.idle()"
      ],
      "execution_count": 37,
      "outputs": []
    },
    {
      "cell_type": "code",
      "metadata": {
        "id": "uFuNnsvp8yzU"
      },
      "source": [
        "# Запуск бота или функции для тестов\n",
        "\n",
        "# start_the_bot()\n",
        "testing()"
      ],
      "execution_count": null,
      "outputs": []
    },
    {
      "cell_type": "markdown",
      "metadata": {
        "id": "Nnd6nMqQGfUd"
      },
      "source": [
        "### Итоги\n",
        "\n",
        "Бот работает. Конечно, не так точно, как хотелось бы, но это ведь только обучающий пример.\n",
        "\n",
        "Чтобы *улучшить* работу бота можно было бы:\n",
        "\n",
        "* Использовать более эффектиный векторайзер\n",
        "* Использовать иные классификаторы для распознания интента\n",
        "* Оптимизировать гиперпараметры модели и векторайзера\n",
        "* Собрать больше данных для обучения"
      ]
    }
  ]
}
